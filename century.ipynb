{
 "cells": [
  {
   "cell_type": "code",
   "execution_count": 29,
   "id": "53a60a99",
   "metadata": {},
   "outputs": [
    {
     "data": {
      "text/plain": [
       "'$750,000'"
      ]
     },
     "execution_count": 29,
     "metadata": {},
     "output_type": "execute_result"
    }
   ],
   "source": [
    "import requests\n",
    "from bs4 import BeautifulSoup\n",
    "\n",
    "r = requests.get('https://www.century21.com/real-estate/brooklyn-ny/LCNYBROOKLYN/')\n",
    "c = r.content\n",
    "\n",
    "soup = BeautifulSoup(c, 'html.parser')\n",
    "\n",
    "all = soup.find_all('div',{'class':'infinite-item'})\n",
    "\n",
    "all[0].find('a', {'class': 'listing-price'}).text.replace('\\n','').replace(' ','')"
   ]
  },
  {
   "cell_type": "code",
   "execution_count": null,
   "id": "90816436",
   "metadata": {},
   "outputs": [],
   "source": []
  }
 ],
 "metadata": {
  "kernelspec": {
   "display_name": "Python 3",
   "language": "python",
   "name": "python3"
  },
  "language_info": {
   "codemirror_mode": {
    "name": "ipython",
    "version": 3
   },
   "file_extension": ".py",
   "mimetype": "text/x-python",
   "name": "python",
   "nbconvert_exporter": "python",
   "pygments_lexer": "ipython3",
   "version": "3.9.4"
  }
 },
 "nbformat": 4,
 "nbformat_minor": 5
}
