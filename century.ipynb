{
 "cells": [
  {
   "cell_type": "code",
   "execution_count": 4,
   "id": "53a60a99",
   "metadata": {},
   "outputs": [
    {
     "data": {
      "text/plain": [
       "'$849,000'"
      ]
     },
     "execution_count": 4,
     "metadata": {},
     "output_type": "execute_result"
    }
   ],
   "source": [
    "import requests\n",
    "from bs4 import BeautifulSoup\n",
    "\n",
    "r = requests.get('https://www.century21.com/real-estate/brooklyn-ny/LCNYBROOKLYN/')\n",
    "c = r.content\n",
    "\n",
    "soup = BeautifulSoup(c, 'html.parser')\n",
    "\n",
    "all = soup.find_all('div',{'class':'infinite-item'})\n",
    "\n",
    "all[0].find('a', {'class': 'listing-price'}).text.replace('\\n','').replace(' ','')"
   ]
  },
  {
   "cell_type": "code",
   "execution_count": 14,
   "id": "90816436",
   "metadata": {},
   "outputs": [
    {
     "name": "stdout",
     "output_type": "stream",
     "text": [
      "[{'Address': '637 B Warwick Street', 'City': 'E. New York NY 11207', 'Beds': '8', 'Full-Baths': '3', 'Half-Baths': None, 'Area': None, 'Price': '$849,000'}]\n",
      "[{'Address': '415 Argyle Rd #7T', 'City': 'Brooklyn NY 11218', 'Beds': '1', 'Full-Baths': '1', 'Half-Baths': None, 'Area': None, 'Price': '$478,000'}]\n",
      "[{'Address': '6 Terrace Place', 'City': 'Brooklyn NY 11218', 'Beds': '9', 'Full-Baths': '4', 'Half-Baths': None, 'Area': None, 'Price': '$2,595,000'}]\n",
      "[{'Address': '454 Jefferson Avenue', 'City': 'Brooklyn NY 11221', 'Beds': '5', 'Full-Baths': '4', 'Half-Baths': '1', 'Area': None, 'Price': '$1,995,000'}]\n",
      "[{'Address': '34 Plaza St E 1207', 'City': 'Brooklyn NY 11238', 'Beds': '2', 'Full-Baths': '2', 'Half-Baths': None, 'Area': None, 'Price': '$1,750,000'}]\n",
      "[{'Address': '429 Kent Avenue 703', 'City': 'Brooklyn NY 11249', 'Beds': '2', 'Full-Baths': '2', 'Half-Baths': '1', 'Area': None, 'Price': '$1,400,000'}]\n",
      "[{'Address': '2275 Ryder Street', 'City': 'Brooklyn NY 11234', 'Beds': '8', 'Full-Baths': '3', 'Half-Baths': '1', 'Area': '3,384 sq. ft', 'Price': '$1,289,000'}]\n",
      "[{'Address': '556 East 86th Street', 'City': 'Brooklyn NY 11236', 'Beds': '5', 'Full-Baths': '4', 'Half-Baths': '1', 'Area': '3,196 sq. ft', 'Price': '$960,000'}]\n",
      "[{'Address': '1326 East 55 Street', 'City': 'Brooklyn NY 11234', 'Beds': '5', 'Full-Baths': '2', 'Half-Baths': '1', 'Area': '2,400 sq. ft', 'Price': '$869,000'}]\n",
      "[{'Address': '81 East 54th Street', 'City': 'Brooklyn NY 11203', 'Beds': '3', 'Full-Baths': '2', 'Half-Baths': None, 'Area': None, 'Price': '$635,000'}]\n",
      "[{'Address': '2052 71st Street', 'City': 'Brooklyn NY 11204', 'Beds': '4', 'Full-Baths': '2', 'Half-Baths': None, 'Area': '1,624 sq. ft', 'Price': '$1,350,000'}]\n",
      "[{'Address': '515-517 Georgia Avenue', 'City': 'E. New York NY 11207', 'Beds': None, 'Full-Baths': None, 'Half-Baths': None, 'Area': None, 'Price': '$1,600,000'}]\n",
      "[{'Address': '6409 11th Ave', 'City': 'Brooklyn NY 11219', 'Beds': '3', 'Full-Baths': '3', 'Half-Baths': None, 'Area': '3,100 sq. ft', 'Price': '$1,595,000'}]\n",
      "[{'Address': '83 Woodhull Street 2', 'City': 'Carroll Gardens NY 11231', 'Beds': '2', 'Full-Baths': '2', 'Half-Baths': None, 'Area': None, 'Price': '$1,299,000'}]\n",
      "[{'Address': '68 Sutton Street', 'City': 'Greenpoint NY 11222', 'Beds': '12', 'Full-Baths': '6', 'Half-Baths': '1', 'Area': None, 'Price': '$1,280,000'}]\n",
      "[{'Address': '408 Saint Johns Place 6-D', 'City': 'Brooklyn NY 11239', 'Beds': '3', 'Full-Baths': '2', 'Half-Baths': None, 'Area': None, 'Price': '$1,150,000'}]\n",
      "[{'Address': '2456 east 71st street', 'City': 'Brooklyn NY 11234', 'Beds': '4', 'Full-Baths': '2', 'Half-Baths': '1', 'Area': '2,172 sq. ft', 'Price': '$980,000'}]\n",
      "[{'Address': '171 Greene Avenue 2', 'City': 'New York City NY 11238', 'Beds': '2', 'Full-Baths': '1', 'Half-Baths': None, 'Area': None, 'Price': '$899,000'}]\n",
      "[{'Address': '171 Greene Avenue 2', 'City': 'Brooklyn NY 11238', 'Beds': '2', 'Full-Baths': '1', 'Half-Baths': None, 'Area': '800 sq. ft', 'Price': '$899,000'}]\n",
      "[{'Address': '2817 Avenue Y', 'City': 'Brooklyn NY 11235', 'Beds': '3', 'Full-Baths': '1', 'Half-Baths': '1', 'Area': '2,100 sq. ft', 'Price': '$885,000'}]\n",
      "[{'Address': None, 'City': None, 'Beds': None, 'Full-Baths': None, 'Half-Baths': None, 'Area': None, 'Price': None}]\n"
     ]
    }
   ],
   "source": [
    "l = []\n",
    "for item in all:\n",
    "    d = {}\n",
    "    d.clear()\n",
    "    l.clear()\n",
    "\n",
    "    try:\n",
    "         d['Address']=item.find('div',{'class':'property-address'}).text.lstrip().strip()\n",
    "    except:\n",
    "        pass\n",
    "        d['Address']=None\n",
    "    try:\n",
    "        d['City']=item.find('div',{'class':'property-city'}).text.lstrip().rstrip()\n",
    "    except:\n",
    "        pass\n",
    "        d['City']=None\n",
    "    try:\n",
    "        d['Beds']=item.find('div',{'class':'property-beds'}).find('strong').text.lstrip().rstrip()\n",
    "    except:\n",
    "        pass\n",
    "        d['Beds']=None\n",
    "    try:\n",
    "        d['Full-Baths']=item.find('div',{'class':'property-baths'}).find('strong').text.lstrip().rstrip()\n",
    "    except:\n",
    "        pass\n",
    "        d['Full-Baths']=None\n",
    "    try:\n",
    "        d['Half-Baths']=item.find('div',{'class':'property-half-baths'}).find('strong').text.lstrip().rstrip()\n",
    "    except:\n",
    "        pass\n",
    "        d['Half-Baths']=None\n",
    "    try:\n",
    "        d['Area']=item.find('div',{'class':'property-sqft'}).text.lstrip().rstrip()\n",
    "    except:\n",
    "        pass\n",
    "        d['Area']=None\n",
    "    try:\n",
    "        d['Price']=item.find('a', {'class': 'listing-price'}).text.replace('\\n','').replace(' ','')\n",
    "    except:\n",
    "        pass\n",
    "        d['Price']=None\n",
    "    l.append(d)\n",
    "    print(l)"
   ]
  },
  {
   "cell_type": "code",
   "execution_count": null,
   "id": "66813d2a",
   "metadata": {},
   "outputs": [],
   "source": []
  },
  {
   "cell_type": "code",
   "execution_count": null,
   "id": "c7ea0029",
   "metadata": {},
   "outputs": [],
   "source": []
  }
 ],
 "metadata": {
  "kernelspec": {
   "display_name": "Python 3",
   "language": "python",
   "name": "python3"
  },
  "language_info": {
   "codemirror_mode": {
    "name": "ipython",
    "version": 3
   },
   "file_extension": ".py",
   "mimetype": "text/x-python",
   "name": "python",
   "nbconvert_exporter": "python",
   "pygments_lexer": "ipython3",
   "version": "3.9.4"
  }
 },
 "nbformat": 4,
 "nbformat_minor": 5
}
